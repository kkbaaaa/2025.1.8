{
 "cells": [
  {
   "cell_type": "code",
   "execution_count": 1,
   "metadata": {},
   "outputs": [
    {
     "name": "stdout",
     "output_type": "stream",
     "text": [
      "Epoch 1/10\n",
      "1563/1563 [==============================] - 171s 108ms/step - loss: 1.9323 - accuracy: 0.2863 - val_loss: 1.8157 - val_accuracy: 0.3340\n",
      "Epoch 2/10\n",
      "1563/1563 [==============================] - 158s 101ms/step - loss: 1.7498 - accuracy: 0.3642 - val_loss: 1.6841 - val_accuracy: 0.3984\n",
      "Epoch 3/10\n",
      "1563/1563 [==============================] - 172s 110ms/step - loss: 1.6908 - accuracy: 0.3893 - val_loss: 1.7298 - val_accuracy: 0.3662\n",
      "Epoch 4/10\n",
      "1563/1563 [==============================] - 166s 106ms/step - loss: 1.6638 - accuracy: 0.4039 - val_loss: 1.6114 - val_accuracy: 0.4184\n",
      "Epoch 5/10\n",
      "1563/1563 [==============================] - 161s 103ms/step - loss: 1.6426 - accuracy: 0.4115 - val_loss: 1.5963 - val_accuracy: 0.4311\n",
      "Epoch 6/10\n",
      "1563/1563 [==============================] - 168s 108ms/step - loss: 1.6192 - accuracy: 0.4178 - val_loss: 1.6285 - val_accuracy: 0.4142\n",
      "Epoch 7/10\n",
      "1563/1563 [==============================] - 162s 103ms/step - loss: 1.6056 - accuracy: 0.4240 - val_loss: 1.6088 - val_accuracy: 0.4234\n",
      "Epoch 8/10\n",
      "1563/1563 [==============================] - 167s 107ms/step - loss: 1.5920 - accuracy: 0.4314 - val_loss: 1.6317 - val_accuracy: 0.4099\n",
      "Epoch 9/10\n",
      "1563/1563 [==============================] - 161s 103ms/step - loss: 1.5772 - accuracy: 0.4361 - val_loss: 1.5930 - val_accuracy: 0.4173\n",
      "Epoch 10/10\n",
      "1563/1563 [==============================] - 157s 101ms/step - loss: 1.5680 - accuracy: 0.4390 - val_loss: 1.5728 - val_accuracy: 0.4394\n",
      "313/313 - 25s - loss: 1.5728 - accuracy: 0.4394 - 25s/epoch - 80ms/step\n",
      "Test accuracy: 0.43939998745918274\n"
     ]
    }
   ],
   "source": [
    "import pickle\n",
    "import numpy as np\n",
    "import tensorflow as tf\n",
    "from tensorflow.keras.applications import ResNet50\n",
    "from tensorflow.keras.models import Model\n",
    "from tensorflow.keras.layers import Dense, Flatten\n",
    "\n",
    "#加载训练数据\n",
    "def unpickle(file):\n",
    "    with open(file, 'rb') as fo:\n",
    "        dict = pickle.load(fo, encoding='bytes')\n",
    "    return dict\n",
    "x_train = []\n",
    "y_train = []\n",
    "for i in range(1, 6):\n",
    "    batch = unpickle(f'cifar-10-batches-py/data_batch_{i}')\n",
    "    x_train.append(batch[b'data'])\n",
    "    y_train.append(batch[b'labels'])\n",
    "x_train = np.concatenate(x_train)\n",
    "y_train = np.concatenate(y_train)\n",
    "#加载测试数据\n",
    "test_batch = unpickle('cifar-10-batches-py/test_batch')\n",
    "x_test = test_batch[b'data']\n",
    "y_test = test_batch[b'labels']\n",
    "#交换通道\n",
    "x_train = x_train.reshape(x_train.shape[0], 3, 32, 32).transpose(0, 2, 3, 1)\n",
    "x_test = x_test.reshape(x_test.shape[0], 3, 32, 32).transpose(0, 2, 3, 1)\n",
    "#调整输入尺寸以适应ResNet50\n",
    "x_train = tf.image.resize(x_train, (48, 48)).numpy()\n",
    "x_test = tf.image.resize(x_test, (48, 48)).numpy()\n",
    "#归一化数据\n",
    "x_train, x_test = x_train / 255.0, x_test / 255.0\n",
    "#将标签列表转换为NumPy数组\n",
    "y_train = np.array(y_train)\n",
    "y_test = np.array(y_test)\n",
    "#构建ResNet模型\n",
    "base_model = ResNet50(weights='imagenet', include_top=False, input_shape=(48, 48, 3))\n",
    "#冻结ResNet模型的权重\n",
    "for layer in base_model.layers:\n",
    "    layer.trainable = False\n",
    "#添加自定义层\n",
    "x = Flatten()(base_model.output)\n",
    "x = Dense(128, activation='relu')(x)\n",
    "predictions = Dense(10, activation='softmax')(x)\n",
    "#构建最终模型\n",
    "model = Model(inputs=base_model.input, outputs=predictions)\n",
    "#编译模型\n",
    "model.compile(optimizer='adam',loss='sparse_categorical_crossentropy',metrics=['accuracy'])\n",
    "#训练模型\n",
    "model.fit(x_train, y_train, epochs=10, validation_data=(x_test, y_test))\n",
    "#评估模型\n",
    "test_loss, test_acc = model.evaluate(x_test, y_test, verbose=2)\n",
    "print(f'Test accuracy: {test_acc}')"
   ]
  }
 ],
 "metadata": {
  "kernelspec": {
   "display_name": "pytest",
   "language": "python",
   "name": "python3"
  },
  "language_info": {
   "codemirror_mode": {
    "name": "ipython",
    "version": 3
   },
   "file_extension": ".py",
   "mimetype": "text/x-python",
   "name": "python",
   "nbconvert_exporter": "python",
   "pygments_lexer": "ipython3",
   "version": "3.9.18"
  }
 },
 "nbformat": 4,
 "nbformat_minor": 2
}
