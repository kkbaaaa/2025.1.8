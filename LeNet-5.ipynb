{
 "cells": [
  {
   "cell_type": "code",
   "execution_count": 1,
   "metadata": {},
   "outputs": [
    {
     "name": "stdout",
     "output_type": "stream",
     "text": [
      "Epoch 1/10\n",
      "1563/1563 [==============================] - 39s 24ms/step - loss: 1.6134 - accuracy: 0.4089 - val_loss: 1.3964 - val_accuracy: 0.4927\n",
      "Epoch 2/10\n",
      "1563/1563 [==============================] - 49s 31ms/step - loss: 1.3551 - accuracy: 0.5117 - val_loss: 1.3658 - val_accuracy: 0.5095\n",
      "Epoch 3/10\n",
      "1563/1563 [==============================] - 12s 8ms/step - loss: 1.2503 - accuracy: 0.5542 - val_loss: 1.2271 - val_accuracy: 0.5611\n",
      "Epoch 4/10\n",
      "1563/1563 [==============================] - 20s 13ms/step - loss: 1.1751 - accuracy: 0.5808 - val_loss: 1.2562 - val_accuracy: 0.5549\n",
      "Epoch 5/10\n",
      "1563/1563 [==============================] - 8s 5ms/step - loss: 1.1140 - accuracy: 0.6032 - val_loss: 1.1813 - val_accuracy: 0.5857\n",
      "Epoch 6/10\n",
      "1563/1563 [==============================] - 24s 16ms/step - loss: 1.0734 - accuracy: 0.6188 - val_loss: 1.1436 - val_accuracy: 0.5952\n",
      "Epoch 7/10\n",
      "1563/1563 [==============================] - 54s 34ms/step - loss: 1.0235 - accuracy: 0.6375 - val_loss: 1.1562 - val_accuracy: 0.5911\n",
      "Epoch 8/10\n",
      "1563/1563 [==============================] - 27s 17ms/step - loss: 0.9931 - accuracy: 0.6476 - val_loss: 1.2011 - val_accuracy: 0.5824\n",
      "Epoch 9/10\n",
      "1563/1563 [==============================] - 62s 40ms/step - loss: 0.9547 - accuracy: 0.6619 - val_loss: 1.1788 - val_accuracy: 0.5890\n",
      "Epoch 10/10\n",
      "1563/1563 [==============================] - 66s 42ms/step - loss: 0.9288 - accuracy: 0.6709 - val_loss: 1.1340 - val_accuracy: 0.6055\n",
      "313/313 - 0s - loss: 1.1340 - accuracy: 0.6055 - 473ms/epoch - 2ms/step\n",
      "Test accuracy: 0.6054999828338623\n"
     ]
    }
   ],
   "source": [
    "import pickle\n",
    "import numpy as np\n",
    "import tensorflow as tf\n",
    "from tensorflow.keras.models import Sequential\n",
    "from tensorflow.keras.layers import Conv2D, MaxPooling2D, Flatten, Dense, Dropout, Activation\n",
    "\n",
    "#加载训练数据\n",
    "def unpickle(file):\n",
    "    with open(file, 'rb') as fo:\n",
    "        dict = pickle.load(fo, encoding='bytes')\n",
    "    return dict\n",
    "x_train = []\n",
    "y_train = []\n",
    "for i in range(1, 6):\n",
    "    batch = unpickle(f'cifar-10-batches-py/data_batch_{i}')\n",
    "    x_train.append(batch[b'data'])\n",
    "    y_train.append(batch[b'labels'])\n",
    "x_train = np.concatenate(x_train)\n",
    "y_train = np.concatenate(y_train)\n",
    "#加载测试数据\n",
    "test_batch = unpickle('cifar-10-batches-py/test_batch')\n",
    "x_test = test_batch[b'data']\n",
    "y_test = test_batch[b'labels']\n",
    "#归一化数据和调整形状\n",
    "x_train = x_train.reshape(x_train.shape[0], 3, 32, 32).transpose(0, 2, 3, 1).astype('float32') / 255\n",
    "x_test = x_test.reshape(x_test.shape[0], 3, 32, 32).transpose(0, 2, 3, 1).astype('float32') / 255\n",
    "#将标签从整数转换为适合Keras的格式\n",
    "y_train = np.array(y_train)\n",
    "y_test = np.array(y_test)\n",
    "#构建LeNet-5模型\n",
    "model = Sequential()\n",
    "model.add(Conv2D(6, (5, 5), activation='relu', input_shape=(32, 32, 3)))\n",
    "model.add(MaxPooling2D((2, 2)))\n",
    "model.add(Conv2D(16, (5, 5), activation='relu'))\n",
    "model.add(MaxPooling2D((2, 2)))\n",
    "model.add(Flatten())\n",
    "model.add(Dense(120))\n",
    "model.add(Activation('relu'))\n",
    "model.add(Dense(84))\n",
    "model.add(Activation('relu'))\n",
    "model.add(Dense(10, activation='softmax'))\n",
    "#编译模型\n",
    "model.compile(optimizer='adam',loss='sparse_categorical_crossentropy',metrics=['accuracy'])\n",
    "#训练模型\n",
    "model.fit(x_train, y_train, epochs=10, validation_data=(x_test, y_test))\n",
    "#评估模型\n",
    "test_loss, test_acc = model.evaluate(x_test, y_test, verbose=2)\n",
    "print(f'Test accuracy: {test_acc}')"
   ]
  }
 ],
 "metadata": {
  "kernelspec": {
   "display_name": "pytest",
   "language": "python",
   "name": "python3"
  },
  "language_info": {
   "codemirror_mode": {
    "name": "ipython",
    "version": 3
   },
   "file_extension": ".py",
   "mimetype": "text/x-python",
   "name": "python",
   "nbconvert_exporter": "python",
   "pygments_lexer": "ipython3",
   "version": "3.9.18"
  }
 },
 "nbformat": 4,
 "nbformat_minor": 2
}
